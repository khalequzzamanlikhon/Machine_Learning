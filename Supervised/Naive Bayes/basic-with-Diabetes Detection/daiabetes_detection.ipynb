{
 "cells": [
  {
   "cell_type": "code",
   "execution_count": 56,
   "metadata": {},
   "outputs": [
    {
     "name": "stdout",
     "output_type": "stream",
     "text": [
      "[['Pregnancies', 'Glucose', 'BloodPressure', 'SkinThickness', 'Insulin', 'BMI', 'DiabetesPedigreeFunction', 'Age', 'Outcome'], ['6', '148', '72', '35', '0', '33.6', '0.627', '50', '1'], ['1', '85', '66', '29', '0', '26.6', '0.351', '31', '0'], ['8', '183', '64', '0', '0', '23.3', '0.672', '32', '1'], ['1', '89', '66', '23', '94', '28.1', '0.167', '21', '0']]\n"
     ]
    }
   ],
   "source": [
    "import csv\n",
    "import math \n",
    "import random\n",
    "with open('diabetes.csv', newline='') as f:\n",
    "    reader = csv.reader(f)\n",
    "    data = list(reader)\n",
    "print(data[:5])"
   ]
  },
  {
   "cell_type": "code",
   "execution_count": 57,
   "metadata": {},
   "outputs": [
    {
     "name": "stdout",
     "output_type": "stream",
     "text": [
      "[['6', '148', '72', '35', '0', '33.6', '0.627', '50', '1'], ['1', '85', '66', '29', '0', '26.6', '0.351', '31', '0'], ['8', '183', '64', '0', '0', '23.3', '0.672', '32', '1'], ['1', '89', '66', '23', '94', '28.1', '0.167', '21', '0'], ['0', '137', '40', '35', '168', '43.1', '2.288', '33', '1']]\n"
     ]
    }
   ],
   "source": [
    "data.pop(0)#deleting the first row from the list\n",
    "print(data[:5])"
   ]
  },
  {
   "cell_type": "code",
   "execution_count": 58,
   "metadata": {},
   "outputs": [
    {
     "data": {
      "text/plain": [
       "[[6.0, 148.0, 72.0, 35.0, 0.0, 33.6, 0.627, 50.0, 1.0],\n",
       " [1.0, 85.0, 66.0, 29.0, 0.0, 26.6, 0.351, 31.0, 0.0],\n",
       " [8.0, 183.0, 64.0, 0.0, 0.0, 23.3, 0.672, 32.0, 1.0],\n",
       " [1.0, 89.0, 66.0, 23.0, 94.0, 28.1, 0.167, 21.0, 0.0],\n",
       " [0.0, 137.0, 40.0, 35.0, 168.0, 43.1, 2.288, 33.0, 1.0]]"
      ]
     },
     "execution_count": 58,
     "metadata": {},
     "output_type": "execute_result"
    }
   ],
   "source": [
    "#creating the float values\n",
    "for i in range(len(data)):\n",
    "    data[i]=[float(x) for x in data[i]]\n",
    "data[:5]"
   ]
  },
  {
   "cell_type": "code",
   "execution_count": 59,
   "metadata": {},
   "outputs": [],
   "source": [
    "def splitData(data,splitRatio):\n",
    "    trainSize=int(len(data)*splitRatio)\n",
    "    trainSet=[]\n",
    "    copy=list(data)\n",
    "    while len(trainSet)<trainSize:\n",
    "        index=random.randrange(len(copy))\n",
    "        trainSet.append((copy.pop(index)))\n",
    "    return [trainSet,copy]"
   ]
  },
  {
   "cell_type": "code",
   "execution_count": 60,
   "metadata": {},
   "outputs": [],
   "source": [
    "##separating the data by class value\n",
    "def separateByClass(data):\n",
    "    separated={}\n",
    "    for i in range(len(data)):\n",
    "        vector=data[i]\n",
    "        if (vector[-1] not in separated): \n",
    "                separated[vector[-1]]=[]\n",
    "        separated[vector[-1]].append(vector)\n",
    "    return separated    \n",
    "        "
   ]
  },
  {
   "cell_type": "code",
   "execution_count": 61,
   "metadata": {},
   "outputs": [],
   "source": [
    "#calculating mean\n",
    "def mean(numbers):\n",
    "    return sum(numbers)/float(len(numbers)-1)"
   ]
  },
  {
   "cell_type": "code",
   "execution_count": 62,
   "metadata": {},
   "outputs": [],
   "source": [
    "#calculating standard deviation\n",
    "def stdev(numbers):\n",
    "    avg=mean(numbers)\n",
    "    variance=sum([pow(x-avg,2) for x in numbers])/float(len(numbers))\n",
    "    return math.sqrt(variance)"
   ]
  },
  {
   "cell_type": "code",
   "execution_count": 63,
   "metadata": {},
   "outputs": [],
   "source": [
    "def summarize(data):\n",
    "    summaries=[(mean(attribute),stdev(attribute)) for attribute in zip(*data)]\n",
    "    del summaries[-1]\n",
    "    return summaries"
   ]
  },
  {
   "cell_type": "code",
   "execution_count": 80,
   "metadata": {},
   "outputs": [],
   "source": [
    "def summarizeByClass(data):\n",
    "    separated=separateByClass(data)\n",
    "    summaries={}\n",
    "    for classValue,instances in separated.items():\n",
    "        summaries[classValue]=summarize(instances)\n",
    "    return summaries"
   ]
  },
  {
   "cell_type": "code",
   "execution_count": 81,
   "metadata": {},
   "outputs": [],
   "source": [
    "def calProbability(x,mean,stdev):\n",
    "    exponent=math.exp(-(math.pow(x-mean,2)/(2*math.pow(stdev,2))))\n",
    "    return (1/(math.sqrt(2*math.pi)*stdev))*exponent"
   ]
  },
  {
   "cell_type": "code",
   "execution_count": 82,
   "metadata": {},
   "outputs": [],
   "source": [
    "def calClassProbability(summaries,inputVector):\n",
    "    probabilities={}\n",
    "    for classValue,classSummaries in summaries.items():\n",
    "        probabilities[classValue]=1\n",
    "        for i in range(len(classSummaries)):\n",
    "            mean,stdev=classSummaries[i]\n",
    "            x=inputVector[i]\n",
    "            probabilities[classValue]*=calProbability(x,mean,stdev)\n",
    "            \n",
    "    return probabilities"
   ]
  },
  {
   "cell_type": "code",
   "execution_count": 83,
   "metadata": {},
   "outputs": [],
   "source": [
    "def predict(summaries,inputVector):\n",
    "    probabilities=calClassProbability(summaries,inputVector)\n",
    "    bestLabel,bestProb=None ,-1\n",
    "    for classValue,probability in probabilities.items():\n",
    "        if bestLabel is None or probability>bestProb:\n",
    "            bestProb=probability\n",
    "            bestLabel=classValue\n",
    "    return  bestLabel"
   ]
  },
  {
   "cell_type": "code",
   "execution_count": 84,
   "metadata": {},
   "outputs": [],
   "source": [
    "def getPredictions(summaries,testSet):\n",
    "    predictions=[]\n",
    "    for i in range(len(testSet)):\n",
    "        result=predict(summaries,testSet[i])\n",
    "        predictions.append(result)\n",
    "   \n",
    "    return  predictions"
   ]
  },
  {
   "cell_type": "code",
   "execution_count": 85,
   "metadata": {},
   "outputs": [],
   "source": [
    "def getAccuracy(testSet,predictions):\n",
    "    correct=0\n",
    "    for x in range(len(testSet)):\n",
    "        if predictions[x] == testSet[x][-1]:\n",
    "            correct+=1\n",
    "    print(\"correct value\",correct)        \n",
    "    return (correct/float(len(testSet)))*100\n",
    "   \n"
   ]
  },
  {
   "cell_type": "code",
   "execution_count": 88,
   "metadata": {},
   "outputs": [],
   "source": [
    "###all functions are written \n",
    "#let's call them from one single function\n",
    "def main():\n",
    "    \n",
    "    #prepare data\n",
    "    splitRatio=.67\n",
    "    trainingSet,testSet=splitData(data,splitRatio)\n",
    "    #prepare model\n",
    "    summaries=summarizeByClass(trainingSet)\n",
    "    #test model\n",
    "    predictions= getPredictions(summaries,testSet)\n",
    "    accuracy=getAccuracy(testSet,predictions)\n",
    "    print(\"accuracy of the model:\",accuracy)\n",
    "    \n",
    "    \n",
    "  \n",
    "    \n",
    "   "
   ]
  },
  {
   "cell_type": "code",
   "execution_count": 89,
   "metadata": {},
   "outputs": [
    {
     "name": "stdout",
     "output_type": "stream",
     "text": [
      "correct value 191\n",
      "accuracy of the model: 75.19685039370079\n"
     ]
    }
   ],
   "source": [
    "main()"
   ]
  },
  {
   "cell_type": "code",
   "execution_count": null,
   "metadata": {},
   "outputs": [],
   "source": []
  },
  {
   "cell_type": "code",
   "execution_count": null,
   "metadata": {},
   "outputs": [],
   "source": []
  }
 ],
 "metadata": {
  "kernelspec": {
   "display_name": "Python 3",
   "language": "python",
   "name": "python3"
  },
  "language_info": {
   "codemirror_mode": {
    "name": "ipython",
    "version": 3
   },
   "file_extension": ".py",
   "mimetype": "text/x-python",
   "name": "python",
   "nbconvert_exporter": "python",
   "pygments_lexer": "ipython3",
   "version": "3.7.3"
  }
 },
 "nbformat": 4,
 "nbformat_minor": 2
}
