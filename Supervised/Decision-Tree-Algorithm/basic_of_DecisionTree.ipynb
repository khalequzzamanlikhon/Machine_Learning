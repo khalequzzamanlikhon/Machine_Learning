{
 "cells": [
  {
   "cell_type": "code",
   "execution_count": 199,
   "metadata": {},
   "outputs": [],
   "source": [
    "#sample dataset\n",
    "#format:each row is an examle\n",
    "#last column is the label\n",
    "#first two columns are features\n",
    "#interesting note : second and fifth examples have the same features but different label\n",
    "#lets see how tree handles this case\n",
    "training_data=[['Green',3,'Mango'],\n",
    "              ['Yellow',3,'Mango'],\n",
    "              ['Red',1,'Grape'],\n",
    "              ['Red',1,'Grape'],\n",
    "              ['Yellow',3,'Lemon'],]"
   ]
  },
  {
   "cell_type": "code",
   "execution_count": 200,
   "metadata": {},
   "outputs": [
    {
     "name": "stdout",
     "output_type": "stream",
     "text": [
      "['color', 'diameter', 'label']\n"
     ]
    }
   ],
   "source": [
    "#columns labels\n",
    "#used to print the tree \n",
    "header=['color','diameter','label']\n",
    "print(header)"
   ]
  },
  {
   "cell_type": "code",
   "execution_count": 201,
   "metadata": {},
   "outputs": [],
   "source": [
    "def unique_vals(rows,col):\n",
    "    #find the unique value from a column in the dataset\n",
    "    return set([row[col] for row in rows])\n",
    "##unique_vals(training_data,0)--> returns the unique from color column"
   ]
  },
  {
   "cell_type": "code",
   "execution_count": 202,
   "metadata": {},
   "outputs": [],
   "source": [
    "def class_counts(rows):\n",
    "    #counts the number of each type of example in the dataset\n",
    "    counts={}\n", #a dictionary of label count
    "    for row in rows:\n",
    "        #label is the last column\n",
    "        label=row[-1]\n",
    "        if label not in counts:\n",
    "            counts[label]=0\n",
    "        counts[label]+=1\n",
    "    return counts\n"
   ]
  },
  {
   "cell_type": "code",
   "execution_count": 203,
   "metadata": {},
   "outputs": [
    {
     "name": "stdout",
     "output_type": "stream",
     "text": [
      "{'Mango': 2, 'Grape': 2, 'Lemon': 1}\n"
     ]
    }
   ],
   "source": [
    "print(class_counts(training_data))"
   ]
  },
  {
   "cell_type": "code",
   "execution_count": 204,
   "metadata": {},
   "outputs": [],
   "source": [
    "def is_numeric(value):\n",
    "    return isinstance(value,int) or isinstance(value,float)"
   ]
  },
  {
   "cell_type": "code",
   "execution_count": 205,
   "metadata": {},
   "outputs": [],
   "source": [
    "class Question:\n",
    "    '''this class is uded to partion the dataset\n",
    "    this class just record a column number e.g. (0 for color)\n",
    "    and a column value e.g (green).The 'match' method is used to compare the feature\n",
    "    value in an example to the feature value stored in the question'''\n",
    "    def __init__(self,column,value):\n",
    "        self.column=column\n",
    "        self.value=value\n",
    "    def match(self,example):\n",
    "        #compare the feature value in an example to the feature value in the question\n",
    "        val=example[self.column]\n",
    "        if is_numeric(val):\n",
    "            return val>=self.value\n",
    "        else:\n",
    "            return val==self.value\n",
    "    def __repr__(self):\n",
    "        '''this is just a helper method print the question in a readable format'''\n",
    "        condition=\"==\"\n",
    "        if is_numeric(self.value):\n",
    "            condition=\">=\"\n",
    "        return \"Is %s %s %s?\" % (header[self.column],condition,str(self.value))"
   ]
  },
  {
   "cell_type": "code",
   "execution_count": 206,
   "metadata": {},
   "outputs": [],
   "source": [
    "\n",
    "'''demo: let's partion the training data based on whether rows are red.\n",
    " true_rows,false_rows =partion(training_data,Question(0,'Red'))\n",
    "  this will contain all the 'red' rows.\n",
    "  true_rows:this will contain everything else\n",
    "  false_rows'''\n",
    "\n",
    "def partition(rows,question):\n",
    "    '''partions a dataset .for each row in the dataset,chek if it matches the \n",
    "    question.if so add it to true rows,otherwise add it to the false rows.'''\n",
    "    true_rows,false_rows=[],[]\n",
    "    for row in rows:\n",
    "        if question.match(row):\n",
    "            true_rows.append(row)\n",
    "        else:\n",
    "            false_rows.append(row)\n",
    "    return true_rows,false_rows      \n",
    "\n"
   ]
  },
  {
   "cell_type": "code",
   "execution_count": 207,
   "metadata": {},
   "outputs": [],
   "source": [
    "def gini(rows):\n",
    "    '''calculate the gini impurity for a list of rows. \n",
    "    there are few different ways to do this.may be this one is more concise.\n",
    "    see:https://en.wikipedia.org/wiki/Decision_tree_learning#Gini_impurity '''\n",
    "    counts=class_counts(rows)\n",
    "    impurity=1\n",
    "    for lbl in counts:\n",
    "        prob_of_lbl=counts[lbl]/float(len(rows))\n",
    "        impurity-=prob_of_lbl**2\n",
    "    return impurity\n",
    "\n",
    "        "
   ]
  },
  {
   "cell_type": "code",
   "execution_count": 208,
   "metadata": {},
   "outputs": [],
   "source": [
    "def info_gain(left,right,current_uncertainity):\n",
    "    '''information gain.\n",
    "    uncertainity of the starting node ,minus the weighted impurity of two child nodes\n",
    "     '''\n",
    "    p=float(len(left))/(len(left)+len(right))\n",
    "    return current_uncertainity-p*gini(left)-(1-p)*gini(right)\n",
    "\n",
    "#demo:\n",
    "#'''calculate the uncertainity of the training data.\n",
    "#current_uncertainity=gini(trainig_data).\n",
    "#how much information do we gain by partion on green?\n",
    " #true_rows,false_rows =partion(training_data,Question(0,'Green'))\n",
    " #info_gain(true_rows,false_rows,current_uncertainity)\n",
    " #similarly for other colors\n",
    "#'''"
   ]
  },
  {
   "cell_type": "code",
   "execution_count": 209,
   "metadata": {},
   "outputs": [],
   "source": [
    "def find_best_split(rows):\n",
    "    \"\"\"find the best question to ask by iterating over feature /value and calculating\n",
    "     the information gain\"\"\"\n",
    "    best_gain=0 #keep track of the best informarion fain\n",
    "    best_question=None #keep train of the feature /value that produced it\n",
    "    current_uncertainity=gini(rows)\n",
    "    n_features=len(rows[0])-1 #number of columns\n",
    "    for col in range(n_features): #fir each feature\n",
    "        values=set([row[col] for row in rows])# unique values in the column\n",
    "        \n",
    "        for val in values:#for each value\n",
    "            question=Question(col,val)\n",
    "            \n",
    "            #try splitting the dataset\n",
    "            true_rows,false_rows=partition(rows,question)\n",
    "            \n",
    "            #skip this split if it doesn't divide the dataset\n",
    "            if len(true_rows)==0 or len(false_rows)==0:\n",
    "                continue\n",
    "                \n",
    "            #calculate the information gain from this split\n",
    "            gain=info_gain(true_rows,false_rows,current_uncertainity)\n",
    "            if gain>=best_gain:\n",
    "                best_gain,best_question=gain,question\n",
    "    return best_gain,best_question   \n",
    "#####\n",
    "#find the best question to ask first for our toy dataset\n",
    "#best_gain,best_question= find_best_split(training_data)\n",
    "#FYI:is color ==red is just as good .see the note in the code above\n",
    "#where i ised '>='"
   ]
  },
  {
   "cell_type": "code",
   "execution_count": 210,
   "metadata": {},
   "outputs": [],
   "source": [
    "class Leaf:\n",
    "    '''a leaf bode classifies data.\n",
    "    this holds a dictionary of class (e.g.  'mango')->number of times\n",
    "    it appears in the rows from the training data that reach this leaf.'''\n",
    "    def __init__(self,rows):\n",
    "        self.predictions=class_counts(rows)\n",
    "class Decision_Node:\n",
    "    '''decidion node ask a question.\n",
    "    thhis hok=lds a reference to the question,and to the two child nodes.'''\n",
    "    def __init__(self,question,true_branch,false_branch):\n",
    "        self.question=question\n",
    "        self.true_branch=true_branch\n",
    "        self.false_branch=false_branch\n",
    "        \n",
    "    \n",
    "def build_tree(rows):\n",
    "    '''builds the tree'''\n",
    "    ##try partioning the dataset on each of the unique attribute,\n",
    "    #calculate the information gain\n",
    "    #return the question that returns the highest gain\n",
    "    gain,question=find_best_split(rows)\n",
    "    #best case: no further info gain\n",
    "    #since we can ask no further question\n",
    "    \n",
    "    #we will return a leaf\n",
    "    if gain==0:\n",
    "        return Leaf(rows)\n",
    "    #if we reach here ,we have found useful feature/value to partion on\n",
    "    true_rows,false_rows=partition(rows,question) \n",
    "    #recursively build the true branch\n",
    "    true_branch=build_tree(true_rows)\n",
    "    false_branch=build_tree(false_rows)\n",
    "    #return a question node\n",
    "    #this records the best feature\n",
    "    return Decision_Node(question,true_branch,false_branch)\n",
    "    \n",
    "    "
   ]
  },
  {
   "cell_type": "code",
   "execution_count": 211,
   "metadata": {},
   "outputs": [],
   "source": [
    "def print_tree(node,spacing=\"\"):\n",
    "    '''worlds most elegant tree printing function'''\n",
    "    #base case:we have reached a leaf\n",
    "    if isinstance(node,Leaf):\n",
    "        print(spacing+\"Predict\",node.predictions)\n",
    "        return\n",
    "    #print the  question at this node\n",
    "    print(spacing+str(node.question))\n",
    "    #call this function recursively on the true branch\n",
    "    print(spacing+'-->True:')\n",
    "    print(spacing+'-->False:')\n",
    "    print_tree(node.false_branch,spacing+\" \")\n",
    "    \n",
    "    "
   ]
  },
  {
   "cell_type": "code",
   "execution_count": 212,
   "metadata": {},
   "outputs": [],
   "source": [
    "def classify(row,node):\n",
    "    #base case we have reached a leaf\n",
    "    if isinstance(node,Leaf):\n",
    "        return node.predictions\n",
    "    #decide whether to follow true branch or false branch\n",
    "    #compare the feature stored in the node\n",
    "    #to the example we are considering\n",
    "    if node.question.match(row):\n",
    "        return classify(row,node.true_branch)\n",
    "    else:\n",
    "        return classify(row,node.false_branch)"
   ]
  },
  {
   "cell_type": "code",
   "execution_count": 216,
   "metadata": {},
   "outputs": [],
   "source": [
    "def print_leaf(counts):\n",
    "    '''print the predictions at a leaf'''\n",
    "    total=sum(counts.values())*1.0\n",
    "    probs={}\n",
    "    for lbl in counts.keys():\n",
    "        probs[lbl]=str(int(counts[lbl]/total*100))+\"%\"\n",
    "    return probs"
   ]
  },
  {
   "cell_type": "code",
   "execution_count": 218,
   "metadata": {},
   "outputs": [
    {
     "name": "stdout",
     "output_type": "stream",
     "text": [
      "Is diameter >= 3?\n",
      "-->True:\n",
      "-->False:\n",
      " Predict {'Grape': 2}\n",
      "Actual: Apple. Predicted: {'Mango': '100%'}\n",
      "Actual: Apple. Predicted: {'Mango': '50%', 'Lemon': '50%'}\n",
      "Actual: Grape. Predicted: {'Grape': '100%'}\n",
      "Actual: Grape. Predicted: {'Grape': '100%'}\n",
      "Actual: Lemon. Predicted: {'Mango': '50%', 'Lemon': '50%'}\n"
     ]
    }
   ],
   "source": [
    "if __name__=='__main__':\n",
    "    my_tree=build_tree(training_data)\n",
    "    print_tree(my_tree)\n",
    "    #evaluate\n",
    "    testing_data=[\n",
    "        ['Green',3,'Apple'],\n",
    "        ['Yellow',4,'Apple'],\n",
    "        ['Red',2,'Grape'],\n",
    "        ['Red',1,'Grape'],\n",
    "        ['Yellow',3,'Lemon'],]\n",
    "    for row in testing_data:\n",
    "        print(\"Actual: %s. Predicted: %s\" %(row[-1],print_leaf(classify(row,my_tree))))\n",
    "      "
   ]
  },
  {
   "cell_type": "code",
   "execution_count": null,
   "metadata": {},
   "outputs": [],
   "source": []
  },
  {
   "cell_type": "code",
   "execution_count": null,
   "metadata": {},
   "outputs": [],
   "source": []
  },
  {
   "cell_type": "code",
   "execution_count": null,
   "metadata": {},
   "outputs": [],
   "source": []
  }
 ],
 "metadata": {
  "kernelspec": {
   "display_name": "Python 3",
   "language": "python",
   "name": "python3"
  },
  "language_info": {
   "codemirror_mode": {
    "name": "ipython",
    "version": 3
   },
   "file_extension": ".py",
   "mimetype": "text/x-python",
   "name": "python",
   "nbconvert_exporter": "python",
   "pygments_lexer": "ipython3",
   "version": "3.7.3"
  }
 },
 "nbformat": 4,
 "nbformat_minor": 2
}
